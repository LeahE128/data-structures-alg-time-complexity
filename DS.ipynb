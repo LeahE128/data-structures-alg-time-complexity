{
 "cells": [
  {
   "cell_type": "markdown",
   "id": "strategic-association",
   "metadata": {},
   "source": [
    "# Data Structures and Algorithms Assignment 1 - 13336431\n",
    "\n",
    "Introduction: Data Structure is a way of collecting and organising data in such a way that we can perform operations on data in an effective and efficient manner. Data Structures is about ordering data elements in terms of some relationship, for better organization, time capacity and storage.\n",
    "\n",
    "This assignment aims to display the results of implementing certain algorithms in python, interpreting the results and discuss the insights from these results from a data structures perspective.\n",
    "\n",
    "\n",
    "\n",
    "\n",
    "\n"
   ]
  },
  {
   "cell_type": "code",
   "execution_count": 2,
   "id": "difficult-brooklyn",
   "metadata": {},
   "outputs": [],
   "source": [
    "#Import relevant modules\n",
    "\n",
    "import time\n",
    "import timeit\n",
    "from time import perf_counter_ns\n",
    "import matplotlib.pyplot as plt\n",
    "import numpy as np\n",
    "from numpy import array, exp\n",
    "from scipy.optimize import curve_fit"
   ]
  },
  {
   "cell_type": "markdown",
   "id": "living-ceremony",
   "metadata": {},
   "source": [
    "### Task 1 - Write an algorithm to compute the factorial of a positive integer "
   ]
  },
  {
   "cell_type": "markdown",
   "id": "architectural-airfare",
   "metadata": {},
   "source": [
    "Implemented from the lecture notes\n",
    "\n",
    "Algorithm Iterative implementation of factorial\n",
    "* 1: factorial iterative(n):\n",
    "* Input: n a natural number\n",
    "* Output: the n-th factorial number\n",
    "* 2: fact ← n\n",
    "* 3: while n > 1 do\n",
    "* 4: n ← n-1\n",
    "* 5: fact ← fact * n\n",
    "* 6: endwhile\n",
    "* 7: return fact"
   ]
  },
  {
   "cell_type": "markdown",
   "id": "possible-departure",
   "metadata": {},
   "source": [
    "### Task 2 - Implement above algorithm using two approaches, iterative and recursive and plot running times as a function(n) "
   ]
  },
  {
   "cell_type": "code",
   "execution_count": 3,
   "id": "grateful-product",
   "metadata": {},
   "outputs": [],
   "source": [
    "#Implement iterative factorial algorithm\n",
    "\n",
    "def iterative_fact (n):\n",
    "    if n < 0:\n",
    "        return \"number has to be a positive integer\" \n",
    "    fact = 1\n",
    "    for number in range(1,n+1):\n",
    "       fact = fact * number\n",
    "    return fact              "
   ]
  },
  {
   "cell_type": "code",
   "execution_count": 4,
   "id": "minute-softball",
   "metadata": {},
   "outputs": [],
   "source": [
    "#Implement recursive non-tail factorial algorithm\n",
    "# The function is not tail recursive because the value returned by recursive_fact_nonTail(n-1) is used in recursive_fact_nonTail(n) and the function call to recursive_fact_nonTail(n-1) is not the last thing done by recursive_fact_nonTail(n)\n",
    "\n",
    "\n",
    "def recursive_fact_nonTail(n):\n",
    "    if n == 0: \n",
    "        return 1\n",
    "    else: \n",
    "        return recursive_fact_nonTail(n - 1) * n"
   ]
  },
  {
   "cell_type": "code",
   "execution_count": 5,
   "id": "peripheral-balloon",
   "metadata": {},
   "outputs": [],
   "source": [
    "#Implement recursive tail factorial algorithm\n",
    "# The function is tail recursive because the value returned by recursive_fact_tail(n-1) is not used in recursive_fact_tail(n, a=1)\n",
    "#Use an accumulator 'a'\n",
    "\n",
    "\n",
    "def recursive_fact_tail(n, a = 1):\n",
    "    if n == 0:\n",
    "        return a\n",
    "    return recursive_fact_tail(n - 1, n * a)"
   ]
  },
  {
   "cell_type": "markdown",
   "id": "quarterly-seattle",
   "metadata": {},
   "source": [
    "### Discussion - Task 2\n",
    "\n",
    "Factorial is the product of all positive integers less than or equal to a given positive integer.\n",
    "\n",
    "Iterative factorial: The iterative factorial algorithm uses a for loop to calculate the product of all positive integers less than or equal to n.\n",
    "\n",
    "Recursive factorial: The recursive factorial algorithm uses a statement in a function which repeatedly calls itself to calculate the product of all positive integers less than equal to n.\n",
    "\n",
    "The difference between tail recursion and non-tail recursion is that in tail recursion, you don't store the state of a function's value i.e (n-1) is not returned, So when nothing is left to do after coming back from the recursive call, that is called tail recursion. Whereas in case of non-tail recursion the function's value is passed to the parent which means that the values can then be calculated.\n",
    "\n",
    "Summary: A function call is said to be tail recursive if there is nothing to do after the function returns except return its value. A function is non tail recursive if there is some sort of computing processing\n",
    "done after the function returns."
   ]
  },
  {
   "cell_type": "code",
   "execution_count": 8,
   "id": "wound-course",
   "metadata": {},
   "outputs": [
    {
     "name": "stdout",
     "output_type": "stream",
     "text": [
      "[323954, 262784, 288239, 522936, 1035140, 3217312, 5538327]\n",
      "[545507, 264976, 271515, 673141, 729498, 1898789, 2656745]\n",
      "[363908, 257809, 1262720, 2502297, 6539418, 17003888, 25103476]\n",
      "[331995, 248157, 256581, 308493, 556046, 1335233, 2790498]\n"
     ]
    }
   ],
   "source": [
    "#create function to compute the running times of programmes so it is easier to get the running times in one function, \n",
    "#created a method that could compute running times of functions with an element and without an element so it could cater for all functions\n",
    "#manipulated from lecture notes\n",
    "def running_time(input_array, func_name, elem = None):\n",
    "    times = []\n",
    "    \n",
    "    if elem is None:\n",
    "        for val in input_array:\n",
    "            start = time.perf_counter_ns()\n",
    "            from IPython.utils import io as iuio\n",
    "            with iuio.capture_output() as suppressed:\n",
    "                if isinstance(val, tuple):\n",
    "                    _ = func_name(*val)\n",
    "                else:\n",
    "                    _ = func_name(val)\n",
    "\n",
    "            times.append((time.perf_counter_ns() - start)) # 10e9 converts unit from second to nanosecond\n",
    "        return times\n",
    "    else:\n",
    "        start = time.perf_counter_ns()\n",
    "        from IPython.utils import io as iuio\n",
    "        with iuio.capture_output() as suppressed:\n",
    "            if isinstance(input_array, tuple):\n",
    "                _ = func_name(*input_array, elem)\n",
    "            else:\n",
    "                _ = func_name(input_array,elem)\n",
    "\n",
    "        times.append((time.perf_counter_ns() - start)) # 10e9 converts unit from second to nanosecond\n",
    "        return times\n",
    "\n",
    "my_arr = [10,100,1000,3000,5000,8000,10000]\n",
    "my_arr_2 = [10,100,200,500,1000,2000,2500]\n",
    "\n",
    "times_fact_iterative=running_time(my_arr, iterative_fact)\n",
    "times_fact_nonTail = running_time(my_arr_2, recursive_fact_nonTail)\n",
    "times_fact_tail = running_time(my_arr_2, recursive_fact_tail)\n",
    "times_fact_iterative_2 = running_time(my_arr_2, iterative_fact)\n",
    "\n",
    "#print the running times of all algorithm implementations\n",
    "\n",
    "print(times_fact_tail)\n",
    "print(times_fact_nonTail)\n",
    "print(times_fact_iterative)\n",
    "print(times_fact_iterative_2)\n",
    "\n",
    "        "
   ]
  },
  {
   "cell_type": "code",
   "execution_count": 9,
   "id": "concrete-glance",
   "metadata": {},
   "outputs": [
    {
     "data": {
      "image/png": "[encoded data removed]",
      "text/plain": [
       "<Figure size 432x288 with 1 Axes>"
      ]
     },
     "metadata": {
      "needs_background": "light"
     },
     "output_type": "display_data"
    },
    {
     "data": {
      "text/plain": [
       "<Figure size 432x288 with 0 Axes>"
      ]
     },
     "metadata": {},
     "output_type": "display_data"
    }
   ],
   "source": [
    "#plot the running times of the algorithms above\n",
    "\n",
    "plt.plot(my_arr_2,times_fact_nonTail,label='Recursive Non_tail')\n",
    "plt.plot(my_arr_2,times_fact_tail,label='Recursive Tail')\n",
    "plt.plot(my_arr_2,times_fact_iterative_2,label='Iterative')\n",
    "plt.xlabel('n values')\n",
    "plt.ylabel('time (ns)')\n",
    "plt.legend()\n",
    "plt.title('Running Times of Factorial Algorithms')\n",
    "plt.grid()\n",
    "plt.show()\n",
    "plt.savefig('Running_Times_Fact_Algorithms_1.png')"
   ]
  },
  {
   "cell_type": "markdown",
   "id": "dangerous-batch",
   "metadata": {},
   "source": [
    "## Discussion - Task 2\n",
    "\n",
    "Runningtime = operation × activations\n",
    "\n",
    "Recursive Factorials: the algorithm is linear, running in O(n) time. This is the case because it executes once every time it decrements the value n, and it decrements the value n until it reaches 0, resulting in the function being called recursively n times.\n",
    "\n",
    "The tail recursion is slightly quicker than non-tail recursion for values of n up to 2000. The tail recursion is an optimised recursive algorithm that can behave similarly to the iterative algorithm. As there is no task left after the recursive call, the compiler optimizes the code quicker. When one function is called, its address is stored inside the stack. So if it is tail recursion, then storing addresses into stack is not needed. Tail recursion is usually more efficient than non tail recursion. The recursive calls do not need to be added to the call stack.\n",
    "\n",
    "Iterative Factorial: the algorithm is also linear, running in O(n) time. The reasoning for the iterative version is basically the same as for the recursive version: the loop runs in O(1) time and is executed n times.\n",
    "\n",
    "However the iterative version runs in O(1) space, while the recursive algorithm uses O(n) stack space. This ultimately means that the iterative algorithm is quicker than the recursive algorithms. \n",
    "\n"
   ]
  },
  {
   "cell_type": "code",
   "execution_count": 10,
   "id": "democratic-lesbian",
   "metadata": {},
   "outputs": [
    {
     "data": {
      "image/png": "[encoded data removed]",
      "text/plain": [
       "<Figure size 432x288 with 1 Axes>"
      ]
     },
     "metadata": {
      "needs_background": "light"
     },
     "output_type": "display_data"
    }
   ],
   "source": [
    "#plot the running times of the iterative factorial algorithms with a larger array\n",
    "\n",
    "plt.plot(my_arr,times_fact_iterative,label='Iterative', c = \"g\")\n",
    "plt.xlabel('n values')\n",
    "plt.ylabel('time (ns)')\n",
    "plt.legend()\n",
    "plt.title('Running Times of Iterative Factorial Algorithm')\n",
    "plt.grid()\n",
    "plt.show()\n"
   ]
  },
  {
   "cell_type": "markdown",
   "id": "third-preparation",
   "metadata": {},
   "source": [
    "## Discussion\n",
    "\n",
    "From the graph, it is evident the algorithm behaves linearly, as the n values increase, the longer it takes to perform the factorial of that n value."
   ]
  },
  {
   "cell_type": "markdown",
   "id": "charitable-miracle",
   "metadata": {},
   "source": [
    "## Task 3 - Implement with two methods from:  linearsearch, iterative binary and recursive binary"
   ]
  },
  {
   "cell_type": "code",
   "execution_count": 11,
   "id": "aquatic-parking",
   "metadata": {},
   "outputs": [
    {
     "name": "stdout",
     "output_type": "stream",
     "text": [
      "2\n",
      "False\n"
     ]
    }
   ],
   "source": [
    "#binary search algorithm to check if an element is in the input array and the position\n",
    "#recursive binary function calls the function continuously and does not use loops\n",
    "\n",
    "\n",
    "def binary_search_recursive(arr, elem, start=0, end=None):\n",
    "    if end is None:\n",
    "        end = len(arr) - 1\n",
    "    if start > end:\n",
    "        return False\n",
    "\n",
    "    mid = (start + end) // 2\n",
    "    if elem == arr[mid]:\n",
    "        return mid\n",
    "    if elem < arr[mid]:\n",
    "        return binary_search_recursive(arr, elem, start, mid-1)\n",
    "     \n",
    "    return binary_search_recursive(arr, elem, mid+1, end)\n",
    "\n",
    "\n",
    "my_arr_2 = [10,100,200,500,1000,2000,2500]\n",
    "#my_arr_2 is the input sequence\n",
    "#check if 200 is in the array input\n",
    "bin_search_rec = binary_search_recursive(my_arr_2 ,200)\n",
    "bin_search_rec_2 = binary_search_recursive(my_arr_2 ,300)\n",
    "print(bin_search_rec)\n",
    "print(bin_search_rec_2)\n",
    "\n"
   ]
  },
  {
   "cell_type": "code",
   "execution_count": 12,
   "id": "stupid-stadium",
   "metadata": {},
   "outputs": [
    {
     "name": "stdout",
     "output_type": "stream",
     "text": [
      "2\n",
      "False\n"
     ]
    }
   ],
   "source": [
    "#binary search algorithm to check if an element is in the input array and the position\n",
    "#iterative binary function calls the function continuously and does uses a while loop\n",
    "\n",
    "def binary_search_iterative(data, element):\n",
    "  \n",
    "  low = 0\n",
    "  high = len(data)-1\n",
    "  while low <= high:\n",
    "    mid = (low + high) // 2\n",
    "    if element == data[mid]:         # found a match\n",
    "      return mid\n",
    "    elif element < data[mid]:\n",
    "      high = mid - 1                # only consider values left of mid\n",
    "    else:\n",
    "      low = mid + 1                 # only consider values right of mid\n",
    "  return False  \n",
    "\n",
    "bin_search_iter = binary_search_iterative(my_arr_2 ,200)\n",
    "bin_search_iter_2 = binary_search_iterative(my_arr_2 ,300)\n",
    "\n",
    "print(bin_search_iter)\n",
    "print(bin_search_iter_2)\n",
    "\n"
   ]
  },
  {
   "cell_type": "code",
   "execution_count": 14,
   "id": "formal-future",
   "metadata": {},
   "outputs": [],
   "source": [
    "#linear search algorithm searches through each element in a list to find the target element using a for loop\n",
    "\n",
    "def linearsearch(arr, x):\n",
    "    for i in range(len(arr)):\n",
    "        if arr[i] == x:\n",
    "            return i\n",
    "    return False"
   ]
  },
  {
   "cell_type": "code",
   "execution_count": 15,
   "id": "interstate-chart",
   "metadata": {},
   "outputs": [
    {
     "name": "stdout",
     "output_type": "stream",
     "text": [
      "2\n",
      "False\n"
     ]
    }
   ],
   "source": [
    "#testing linearsearch programmes with values 200 and 300 to see if they are in my_arr_2\n",
    "\n",
    "linear_search = linearsearch(my_arr_2 ,200)\n",
    "linear_search_2 = linearsearch(my_arr_2 ,300)\n",
    "print(linear_search)\n",
    "print(linear_search_2)\n"
   ]
  },
  {
   "cell_type": "code",
   "execution_count": 16,
   "id": "registered-windows",
   "metadata": {},
   "outputs": [
    {
     "name": "stdout",
     "output_type": "stream",
     "text": [
      "[347519]\n",
      "[250918]\n",
      "[239592]\n"
     ]
    }
   ],
   "source": [
    "#checking running times of all three approaches to search algorithms\n",
    "\n",
    "times_bin_iterative = running_time(my_arr_2, binary_search_iterative,200)\n",
    "times_bin_recursive = running_time(my_arr_2, binary_search_recursive, 200)\n",
    "times_linear = running_time(my_arr_2, linearsearch, 200)\n",
    "\n",
    "print(times_bin_iterative)\n",
    "print(times_bin_recursive)\n",
    "print(times_linear)\n"
   ]
  },
  {
   "cell_type": "markdown",
   "id": "timely-smoke",
   "metadata": {},
   "source": [
    "## Task 4 - Implement Best and Worst Case Running Times with two methods from:  linearsearch, iterative binary and recursive binary\n",
    "\n",
    "\n",
    "For the purpose of this task, I used the linear search and iterative binary approach"
   ]
  },
  {
   "cell_type": "code",
   "execution_count": 17,
   "id": "corresponding-orbit",
   "metadata": {},
   "outputs": [
    {
     "name": "stdout",
     "output_type": "stream",
     "text": [
      "[530.82, 580.27, 574.61, 576.51, 580.88, 578.65, 616.77, 576.76]\n"
     ]
    }
   ],
   "source": [
    "# created a function to test best case running times of linear search algorithms\n",
    "\n",
    "def bestcase_time(func_name):\n",
    "    arr1 = list(range(100))\n",
    "    arr2 = list(range(500))\n",
    "    arr3 = list(range(1000))\n",
    "    arr4 = list(range(2000))\n",
    "    arr5 = list(range(4000))\n",
    "    arr6 = list(range(6000))\n",
    "    arr7 = list(range(8000))\n",
    "    arr8 = list(range(10000))\n",
    "\n",
    "    arrays = [arr1, arr2, arr3, arr4, arr5,arr6, arr7, arr8]\n",
    "\n",
    "    array_length = len(arrays)\n",
    "    bestTimes = []\n",
    "    \n",
    "    for x in range(array_length):\n",
    "        array = arrays[x]\n",
    "        lastValue = array[len(array)-1]\n",
    "        firstValue = array[0]\n",
    "        bestTime = 0\n",
    "\n",
    "        for x in range(100):\n",
    "            t1_start = perf_counter_ns()\n",
    "            func_name(array, firstValue)\n",
    "            t1_stop = perf_counter_ns()\n",
    "            bestTime += t1_stop - t1_start\n",
    "            \n",
    "        bestTimes.append(bestTime/100)\n",
    "    return bestTimes \n",
    "    \n",
    "        \n",
    "best_case_linear = bestcase_time(linearsearch) \n",
    "print(best_case_linear)"
   ]
  },
  {
   "cell_type": "code",
   "execution_count": 29,
   "id": "academic-timber",
   "metadata": {},
   "outputs": [
    {
     "name": "stdout",
     "output_type": "stream",
     "text": [
      "[10800.39, 60612.59, 132871.85, 157093.8, 1173674.02, 1524697.98, 883845.75, 985699.14]\n",
      "[1834.46, 2978.12, 4359.72, 4205.53, 11905.48, 4126.37, 3060.49, 3291.37]\n"
     ]
    }
   ],
   "source": [
    "# created a function to test worst case running times of binary iterative and linear search algorithms\n",
    "\n",
    "def worstcase_time(func_name):\n",
    "    arr1 = list(range(100))\n",
    "    arr2 = list(range(500))\n",
    "    arr3 = list(range(1000))\n",
    "    arr4 = list(range(2000))\n",
    "    arr5 = list(range(4000))\n",
    "    arr6 = list(range(6000))\n",
    "    arr7 = list(range(8000))\n",
    "    arr8 = list(range(10000))\n",
    "\n",
    "    arrays = [arr1, arr2, arr3, arr4, arr5,arr6, arr7, arr8]\n",
    "\n",
    "    array_length = len(arrays)\n",
    "    worstTimes = []\n",
    "    \n",
    "    for x in range(array_length):\n",
    "        array = arrays[x]\n",
    "        lastValue = array[len(array)-1]\n",
    "        firstValue = array[0]\n",
    "        worstTime = 0\n",
    "\n",
    "        for x in range(100):\n",
    "            t1_start = perf_counter_ns()\n",
    "            func_name(array, lastValue)\n",
    "            t1_stop = perf_counter_ns()\n",
    "            worstTime += t1_stop - t1_start\n",
    "            \n",
    "        worstTimes.append(worstTime/100)\n",
    "    return worstTimes \n",
    "    \n",
    "        \n",
    "worst_case_linear = worstcase_time(linearsearch) \n",
    "worst_case_bin_iterative = worstcase_time(binary_search_iterative)\n",
    "\n",
    "print(worst_case_linear)\n",
    "print(worst_case_bin_iterative)"
   ]
  },
  {
   "cell_type": "code",
   "execution_count": 30,
   "id": "respiratory-contribution",
   "metadata": {},
   "outputs": [
    {
     "name": "stdout",
     "output_type": "stream",
     "text": [
      "[100, 500, 1000, 2000, 4000, 6000, 8000, 10000]\n"
     ]
    }
   ],
   "source": [
    "#get indexes for plotting plots\n",
    "\n",
    "arr1 = list(range(100))\n",
    "arr2 = list(range(500))\n",
    "arr3 = list(range(1000))\n",
    "arr4 = list(range(2000))\n",
    "arr5 = list(range(4000))\n",
    "arr6 = list(range(6000))\n",
    "arr7 = list(range(8000))\n",
    "arr8 = list(range(10000))\n",
    "arrays = [arr1, arr2, arr3, arr4, arr5,arr6, arr7, arr8]\n",
    "\n",
    "array_length = len(arrays)\n",
    "Indexes = []\n",
    "\n",
    "for x in range(array_length):\n",
    "        array = arrays[x]\n",
    "        Indexes.append(len(array))\n",
    "        \n",
    "print(Indexes)"
   ]
  },
  {
   "cell_type": "code",
   "execution_count": 31,
   "id": "pharmaceutical-creek",
   "metadata": {},
   "outputs": [
    {
     "data": {
      "image/png": "[encoded data removed]",
      "text/plain": [
       "<Figure size 432x288 with 1 Axes>"
      ]
     },
     "metadata": {
      "needs_background": "light"
     },
     "output_type": "display_data"
    },
    {
     "data": {
      "text/plain": [
       "<Figure size 432x288 with 0 Axes>"
      ]
     },
     "metadata": {},
     "output_type": "display_data"
    }
   ],
   "source": [
    "#plot worst case running times of Search Algorithms\n",
    "\n",
    "\n",
    "plt.plot(Indexes, worst_case_bin_iterative, label = 'Worst_case_binary_iterative_search')\n",
    "# plt.plot(Indexes, worst_case_linear, label = 'Worst_case_linear_search')\n",
    "plt.xlabel('array length')\n",
    "plt.ylabel('time (ns)')\n",
    "plt.legend()\n",
    "plt.title('Running Times of Worst Case Search Algorithms')\n",
    "plt.grid()\n",
    "plt.show()\n",
    "plt.savefig('Running_Times_Worst_Case_binary__iterative_Algorithm_1.png')"
   ]
  },
  {
   "cell_type": "code",
   "execution_count": null,
   "id": "cordless-colors",
   "metadata": {},
   "outputs": [],
   "source": [
    "#plt.plot(Indexes, worst_case_bin_iterative, label = 'Worst_case_binary_iterative_search')\n",
    "plt.plot(Indexes, worst_case_linear, label = 'Worst_case_linear_search')\n",
    "plt.xlabel('array length')\n",
    "plt.ylabel('time (ns)')\n",
    "plt.legend()\n",
    "plt.title('Running Times of Worst Case Search Algorithms')\n",
    "plt.grid()\n",
    "plt.show()\n",
    "#plt.savefig('Running_Times_Worst_Case_linear_Search_Algorithm_1.png')"
   ]
  },
  {
   "cell_type": "code",
   "execution_count": null,
   "id": "tender-relative",
   "metadata": {},
   "outputs": [],
   "source": [
    "plt.plot(Indexes, worst_case_bin_iterative, label = 'Worst_case_binary_iterative_search')\n",
    "plt.plot(Indexes, worst_case_linear, label = 'Worst_case_linear_search')\n",
    "plt.xlabel('array length')\n",
    "plt.ylabel('time (ns)')\n",
    "plt.legend()\n",
    "plt.title('Running Times of Worst Case Search Algorithms')\n",
    "plt.grid()\n",
    "plt.show()\n",
    "#plt.savefig('Running_Times_Worst_Case_Search_Algorithms_1.png')"
   ]
  },
  {
   "cell_type": "code",
   "execution_count": null,
   "id": "suspected-submission",
   "metadata": {},
   "outputs": [],
   "source": [
    "#I created a bestcase_time binary function because the best case for binary and linear algorithms are different\n",
    "#best case for binary is having the target element as the middle element in the array and\n",
    "#best case for the linear search is having the target element as the first element in the array\n",
    "\n",
    "def bestcase_time_binary(func_name):\n",
    "    arr1 = list(range(100))\n",
    "    arr2 = list(range(500))\n",
    "    arr3 = list(range(1000))\n",
    "    arr4 = list(range(2000))\n",
    "    arr5 = list(range(4000))\n",
    "    arr6 = list(range(6000))\n",
    "    arr7 = list(range(8000))\n",
    "    arr8 = list(range(10000))\n",
    "\n",
    "    arrays = [arr1, arr2, arr3, arr4, arr5,arr6, arr7, arr8]\n",
    "\n",
    "    array_length = len(arrays)\n",
    "    bestIndexes = []\n",
    "    bestTimes = []\n",
    "   \n",
    "    \n",
    "    for x in range(array_length):\n",
    "        array = arrays[x]\n",
    "        bestIndexes.append(len(array))\n",
    "        mid = len(array)-1\n",
    "        midValue = mid//2\n",
    "        firstValue = array[midValue]\n",
    "        bestTime = 0\n",
    "       \n",
    "\n",
    "        for x in range(100):\n",
    "            t3_start = perf_counter_ns()\n",
    "            func_name(array, firstValue)\n",
    "            t3_stop = perf_counter_ns()\n",
    "            bestTime += t3_stop - t3_start\n",
    "        \n",
    "            \n",
    "        bestTimes.append(bestTime/100)\n",
    "    return bestTimes \n",
    "\n",
    "best_case_bin_iterative = bestcase_time_binary(binary_search_iterative)\n",
    "best_case_linear = bestcase_time(linearsearch)\n"
   ]
  },
  {
   "cell_type": "code",
   "execution_count": null,
   "id": "designing-breeding",
   "metadata": {},
   "outputs": [],
   "source": [
    "#plot best case running times of Search Algorithms\n",
    "\n",
    "plt.plot(Indexes, best_case_bin_iterative, label = 'best_case_binary_iterative_search')\n",
    "plt.plot(Indexes, best_case_linear, label = 'best_case_linear_search')\n",
    "plt.xlabel('array length')\n",
    "plt.ylabel('time (ns)')\n",
    "plt.legend()\n",
    "plt.title('Running Times of Best Case Search Algorithms')\n",
    "plt.grid()\n",
    "plt.show()\n",
    "#plt.savefig('Running_Times_Best_Case_Search_Algorithms_1.png')\n"
   ]
  },
  {
   "cell_type": "code",
   "execution_count": null,
   "id": "engaged-appointment",
   "metadata": {},
   "outputs": [],
   "source": [
    "#plot best and worst case running times of Search Algorithms\n",
    "\n",
    "plt.plot(Indexes, best_case_bin_iterative, label = 'best_case_binary_iterative_search')\n",
    "plt.plot(Indexes, worst_case_bin_iterative, label = 'worst_case_binary_iterative_search')\n",
    "plt.xlabel('array length')\n",
    "plt.ylabel('time (ns)')\n",
    "plt.legend()\n",
    "plt.title('Running Times of Best and Worst Case Binary Iterative Search Algorithms')\n",
    "plt.grid()\n",
    "plt.show()\n",
    "#plt.savefig('Running_Times_Best_and_worst_Case_Binary_Iterative_Search_Algorithms_1.png')"
   ]
  },
  {
   "cell_type": "code",
   "execution_count": null,
   "id": "suited-milton",
   "metadata": {},
   "outputs": [],
   "source": [
    "#plot best and worst case running times of Search Algorithms\n",
    "\n",
    "plt.plot(Indexes, worst_case_linear, label = 'worst_case_linear_search')\n",
    "plt.plot(Indexes, best_case_linear, label = 'best_case_linear_search')\n",
    "plt.xlabel('array length')\n",
    "plt.ylabel('time (ns)')\n",
    "plt.legend()\n",
    "plt.title('Running Times of Best and Worst Case Linear Search Algorithms')\n",
    "plt.grid()\n",
    "plt.show()\n",
    "#plt.savefig('Running_Times_Best_and_worst_Case_Linear_Search_Algorithms_1.png')"
   ]
  },
  {
   "cell_type": "markdown",
   "id": "electronic-sharing",
   "metadata": {},
   "source": [
    "## Discussion - Task 4\n",
    "Time Complexity:\n",
    "* The time complexity is the number of operations an algorithm performs to complete its task (considering that each operation takes the same amount of time). The algorithm that performs the task in the smallest number of operations is considered the most efficient one in terms of the time complexity and in this case the best case running time.\n",
    "\n",
    "* Additionally, the algorithm that performs the task in the largest number of operations is considered the least efficient one in terms of the time complexity and in this case the worst case running time.\n",
    "\n",
    "Binary Iterative Search Algorithm:\n",
    "* Best case running times for binary iterative search algorithms involve the programme finding the target element in the first loop, because the binary iterative algorithm works by searching for the element in the middle of the array in the first loop, the best case running time would occur when the target element is the middle value in the array. This means that the running times stay constant and don't increase with the number of loops to search for the target element as the target is found in the first loop and thus the best case time in the graph above shows a horizontal linear line. \n",
    "\n",
    "* On the contrary, worst case running times for binary iterative search algorithms involve the programme finding the target element in either the first or last position of the array. If the target element is not the middle value in the array, the programme works to the left and right of the array until the target element is found. This would mean that the element is found at the last loop, whereby the running times increase after n value increases. This is the worst case running time and can be seen in the graph above where the running times tend to increase with n value increase.\n",
    "\n",
    "* Binary search has time complexity O(log n).\n",
    "\n",
    "\n",
    "\n",
    "Linear Search Algorithm:\n",
    "* Best case running times for linear search algorithms involve the programme finding the target element in the first loop, because the linear search algorithm works by searching for the element in the first position in the first loop and then moves to the next position until it finds the element, the best case running time would occur when the target element is the first element in the array. This means that the running times stay constant and don't increase with the number of loops to search for the target element as the target is found in the first loop and thus the best case time in the graph above shows a horizontal linear line. \n",
    "\n",
    "* On the contrary, worst case running times for linear search algorithms involve the programme finding the target element in the last position of the array. If the target element is not the first value in the array, the programme works to the right of the array until the target element is found. This would mean that the element is found at the last loop, whereby the running times increase after n value increases. This is the worst case running time and can be seen in the graph above where the running times tend to increase with n value increase. The worst case complexity is  O(n).\n",
    "\n",
    "* Linear search algorithms operate in O(n) time. The body of the loop runs in O(1) time and is executed n times.\n",
    "\n"
   ]
  },
  {
   "cell_type": "markdown",
   "id": "southern-creativity",
   "metadata": {},
   "source": [
    "## Task 5 - Use curve - fitting algorithms to find the equation of the running times obtained from Tasks 2-4"
   ]
  },
  {
   "cell_type": "code",
   "execution_count": null,
   "id": "challenging-leather",
   "metadata": {},
   "outputs": [],
   "source": [
    "# got the curve_fit information from https://machinelearningmastery.com/curve-fitting-with-python/\n",
    "#function for worst case linear search algorithm\n",
    "\n",
    "def func(x, a, b):\n",
    "    return a*x+b\n",
    "\n",
    "\n",
    "yData = np.array(worst_case_linear)\n",
    "print(yData)\n",
    "xData = np.array(Indexes)\n",
    "\n",
    "plt.plot(xData, yData, 'bo', label = 'experimental-data')\n",
    "\n",
    "\n",
    "popt, pcov = curve_fit(func, xData, yData)\n",
    "\n",
    "xFit = np.arange(0.0, 10000, 10)\n",
    "\n",
    "plt.plot(xFit, func(xFit, *popt), 'r', label = 'fitted params'.format(tuple(popt)))\n",
    "\n",
    "plt.xlabel('array length')\n",
    "plt.ylabel('time (ns)')\n",
    "plt.legend()\n",
    "plt.title('Fitted Worst Case Linear Search Algorithm')\n",
    "plt.grid()\n",
    "plt.show()\n",
    "#plt.savefig('Fitted_worst_Case_Linear_Search_Algorithm_1.png')"
   ]
  },
  {
   "cell_type": "code",
   "execution_count": null,
   "id": "opened-hormone",
   "metadata": {},
   "outputs": [],
   "source": [
    "#function for worst case binary iterative search algorithm\n",
    "\n",
    "def func(x, a, b, c):\n",
    "    return a*x**2+b*x+c\n",
    "\n",
    "\n",
    "yData = np.array(worst_case_bin_iterative)\n",
    "print(yData)\n",
    "xData = np.array(Indexes)\n",
    "\n",
    "plt.plot(xData, yData, 'bo', label = 'experimental-data')\n",
    "\n",
    "\n",
    "popt, pcov = curve_fit(func, xData, yData)\n",
    "\n",
    "xFit = np.arange(0.0, 10000, 10)\n",
    "\n",
    "plt.plot(xFit, func(xFit, *popt), 'r', label = 'fitted params'.format(tuple(popt)))\n",
    "\n",
    "plt.xlabel('array length')\n",
    "plt.ylabel('time (ns)')\n",
    "plt.legend()\n",
    "plt.title('Fitted Worst Case Binary Search Iterative Algorithm')\n",
    "plt.grid()\n",
    "plt.show()\n",
    "#plt.savefig('Fitted_worst_Case_Bin_iterative_Search_Algorithm_1.png')"
   ]
  },
  {
   "cell_type": "code",
   "execution_count": null,
   "id": "mature-combine",
   "metadata": {},
   "outputs": [],
   "source": [
    "#function for best case binary linear search algorithm\n",
    "\n",
    "def func(x, a, b):\n",
    "    return a*x+b\n",
    "\n",
    "\n",
    "yData = np.array(best_case_linear)\n",
    "print(yData)\n",
    "xData = np.array(Indexes)\n",
    "\n",
    "plt.plot(xData, yData, 'bo', label = 'experimental-data')\n",
    "\n",
    "\n",
    "popt, pcov = curve_fit(func, xData, yData)\n",
    "\n",
    "xFit = np.arange(0.0, 10000, 10)\n",
    "\n",
    "plt.plot(xFit, func(xFit, *popt), 'r', label = 'fitted params'.format(tuple(popt)))\n",
    "\n",
    "plt.xlabel('array length')\n",
    "plt.ylabel('time (ns)')\n",
    "plt.legend()\n",
    "plt.title('Fitted Best Case Linear Search Algorithm')\n",
    "plt.grid()\n",
    "plt.show()\n",
    "#plt.savefig('Fitted_Best_Case_Linear_Search_Algorithm_1.png')"
   ]
  },
  {
   "cell_type": "code",
   "execution_count": null,
   "id": "vertical-revelation",
   "metadata": {},
   "outputs": [],
   "source": [
    "#function for fitted best case binary iterative algorithm\n",
    "\n",
    "def func(x, a, b, c):\n",
    "    return a*x**2+b*x+c\n",
    "\n",
    "\n",
    "yData = np.array(best_case_bin_iterative)\n",
    "print(yData)\n",
    "xData = np.array(Indexes)\n",
    "\n",
    "plt.plot(xData, yData, 'bo', label = 'experimental-data')\n",
    "\n",
    "\n",
    "popt, pcov = curve_fit(func, xData, yData)\n",
    "\n",
    "xFit = np.arange(0.0, 10000, 10)\n",
    "\n",
    "plt.plot(xFit, func(xFit, *popt), 'r', label = 'fitted params'.format(tuple(popt)))\n",
    "\n",
    "plt.xlabel('array length')\n",
    "plt.ylabel('time (ns)')\n",
    "plt.legend()\n",
    "plt.title('Fitted Best Case Binary Search Iterative Algorithm')\n",
    "plt.grid()\n",
    "plt.show()\n",
    "#plt.savefig('Fitted_Best_Case_Bin_iterative_Search_Algorithm_1.png')"
   ]
  },
  {
   "cell_type": "code",
   "execution_count": null,
   "id": "american-collapse",
   "metadata": {},
   "outputs": [],
   "source": [
    "#function for fitted factorial tail recursive algorithm\n",
    "\n",
    "def func(x, a, b):\n",
    "    return a*x+b\n",
    "\n",
    "\n",
    "yData = np.array(times_fact_tail)\n",
    "print(yData)\n",
    "xData = np.array(my_arr)\n",
    "print(yData)\n",
    "\n",
    "plt.plot(xData, yData, 'bo', label = 'experimental-data')\n",
    "\n",
    "\n",
    "popt, pcov = curve_fit(func, xData, yData)\n",
    "\n",
    "xFit = np.arange(0.0, 10000, 10)\n",
    "\n",
    "plt.plot(xFit, func(xFit, *popt), 'r', label = 'fitted params'.format(tuple(popt)))\n",
    "\n",
    "plt.xlabel('array length')\n",
    "plt.ylabel('time (ns)')\n",
    "plt.legend()\n",
    "plt.title('Fitted Running Times of Factorial Tail Recursive Algorithm')\n",
    "plt.grid()\n",
    "plt.show()\n",
    "#plt.savefig('Fitted Running Times of Factorial Tail Recursive Algorithm.png')"
   ]
  },
  {
   "cell_type": "code",
   "execution_count": null,
   "id": "angry-cedar",
   "metadata": {},
   "outputs": [],
   "source": [
    "#function for fitted factorial non-tail recursive algorithm\n",
    "\n",
    "def func(x, a, b):\n",
    "    return a*x+b\n",
    "\n",
    "\n",
    "yData = np.array(times_fact_nonTail)\n",
    "print(yData)\n",
    "xData = np.array(my_arr)\n",
    "\n",
    "plt.plot(xData, yData, 'bo', label = 'experimental-data')\n",
    "\n",
    "\n",
    "popt, pcov = curve_fit(func, xData, yData)\n",
    "\n",
    "xFit = np.arange(0.0, 10000, 10)\n",
    "\n",
    "plt.plot(xFit, func(xFit, *popt), 'r', label = 'fitted params'.format(tuple(popt)))\n",
    "\n",
    "plt.xlabel('array length')\n",
    "plt.ylabel('time (ns)')\n",
    "plt.legend()\n",
    "plt.title('Fitted Running Times of Factorial Non Tail Recursive Algorithm')\n",
    "plt.grid()\n",
    "plt.show()\n",
    "#plt.savefig('Fitted Running Times of Factorial Non Tail Recursive Algorithm.png')"
   ]
  },
  {
   "cell_type": "code",
   "execution_count": null,
   "id": "fresh-python",
   "metadata": {},
   "outputs": [],
   "source": [
    "#function for fitted factorial iterative algorithm\n",
    "\n",
    "def func(x, a, b):\n",
    "    return a*x+b\n",
    "\n",
    "\n",
    "yData = np.array(times_fact_iterative_2)\n",
    "print(yData)\n",
    "xData = np.array(my_arr)\n",
    "\n",
    "plt.plot(xData, yData, 'bo', label = 'experimental-data')\n",
    "\n",
    "\n",
    "popt, pcov = curve_fit(func, xData, yData)\n",
    "\n",
    "xFit = np.arange(0.0, 10000, 10)\n",
    "\n",
    "plt.plot(xFit, func(xFit, *popt), 'r', label = 'fitted params'.format(tuple(popt)))\n",
    "\n",
    "plt.xlabel('array length')\n",
    "plt.ylabel('time (ns)')\n",
    "plt.legend()\n",
    "plt.title('Fitted Running Times of Factorial Iterative Algorithm')\n",
    "plt.grid()\n",
    "plt.show()\n",
    "#plt.savefig('Fitted Running Times of Factorial Iterative Algorithm.png')"
   ]
  },
  {
   "cell_type": "markdown",
   "id": "considerable-classics",
   "metadata": {},
   "source": [
    "## Discussion - Task 5\n",
    "\n",
    "Line of best fit refers to a line through a scatter plot of data points that conveys the relationship between those points. A line of best fit is often useful to attempt to represent data with the equation of a straight line in order to predict values that might not be displayed on the plot. The line of best fit is determined by the correlation between the two variables on a scatter plot. The stronger positive correlation indicates a strong relationship between the two variables, i.e as n values increase, running times also increase. \n",
    "\n",
    "Best Case Algorithms:\n",
    "* The curve fitting of the best case binary iterative and linear search algorithms show that the experimental data is more horizontal in it's shape as the running times do not tend to increase linearly with the increase in length of the array. This suggests a weak relationship between running times and length of array as the algorithms find the target element in the first loop.\n",
    "\n",
    "Worst Case Algorithms:\n",
    "* The curve fitting of the worst case binary iterative and linear search algorithms show that the running times do tend to increase linearly with the increase in array length. This suggests a strong relationship between running times and length of array as the algorithms find the target element in the last loop meaning the algorithm searching for values of increasing size until it finds the target element.\n",
    "\n",
    "Factorial Recursive Algorithms:\n",
    "* The curve fitting of the factorial recursive algorithm running times versus n values expresses a positive linear relationship, as the n values increase so do the factorial values of the n values which involves an increase in computing times. This suggests a strong relationship between running times and the factorial of n values.\n",
    "\n",
    "Factorial Iterative Algorithms:\n",
    "* The curve fitting of the factorial iterative algorithm running times versus n values expresses a positive linear relationship, as the n values increase so do the factorial values of the n values which involves an increase in computing times. This suggests a strong relationship between running times and the factorial of n values. "
   ]
  },
  {
   "cell_type": "markdown",
   "id": "public-chosen",
   "metadata": {},
   "source": [
    "## Conclusion\n",
    "\n",
    "* Factorial Recursion and iterative runs in o(n) time, with iterative having the quicker running times due to the fact that the iterative algorithm runs in O(1) space, while the recursive algorithm uses O(n) stack space. This ultimately means that the iterative algorithm is quicker than the recursive algorithms. \n",
    "\n",
    "* Linear search algorithms run in O(n) time and binary algorithms run in O(log(n)) time and if arrays are sorted binary searches run quicker than linear searches.\n",
    "\n",
    "* Best fit curves show how strong the relationship between two variables is such as n values and running times and length of arrays and running times. Strong relationships are evident in factorial recursive and iterative algorithms and running times and worst case binary and linear searches but weak relationships are shown in best case running times in binary searches and linear searches.\n",
    "\n",
    "\n"
   ]
  },
  {
   "cell_type": "code",
   "execution_count": null,
   "id": "injured-criterion",
   "metadata": {},
   "outputs": [],
   "source": []
  }
 ],
 "metadata": {
  "kernelspec": {
   "display_name": "Python 3",
   "language": "python",
   "name": "python3"
  },
  "language_info": {
   "codemirror_mode": {
    "name": "ipython",
    "version": 3
   },
   "file_extension": ".py",
   "mimetype": "text/x-python",
   "name": "python",
   "nbconvert_exporter": "python",
   "pygments_lexer": "ipython3",
   "version": "3.8.8"
  }
 },
 "nbformat": 4,
 "nbformat_minor": 5
}
